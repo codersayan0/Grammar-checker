{
  "cells": [
    {
      "cell_type": "code",
      "execution_count": null,
      "metadata": {
        "colab": {
          "base_uri": "https://localhost:8080/"
        },
        "id": "pGU48CfBBytZ",
        "outputId": "752a6310-b5f8-40ab-a009-d2ffc1e9e451"
      },
      "outputs": [],
      "source": [
        "!pip install -q google-generativeai gtts Speechrecognition pydub python-docx pdfkit\n",
        "!sudo apt-get install -y wkhtmltopdf\n"
      ]
    },
    {
      "cell_type": "code",
      "execution_count": null,
      "metadata": {
        "id": "HFvRZNcZCj07"
      },
      "outputs": [],
      "source": [
        "import google.generativeai as genai\n",
        "import ipywidgets as widgets\n",
        "from IPython.display import display, HTML, Markdown\n",
        "import json\n",
        "import speech_recognition as sr\n",
        "from gtts import gTTS\n",
        "import pdfkit\n",
        "from docx import Document\n",
        "import os\n"
      ]
    },
    {
      "cell_type": "code",
      "execution_count": null,
      "metadata": {
        "id": "OQKMMZNRRjIT"
      },
      "outputs": [],
      "source": [
        "\n",
        "GEMINI_API_KEY = \"Enter your Gemini API key here\"\n",
        "genai.configure(api_key=GEMINI_API_KEY)\n",
        "model = genai.GenerativeModel(\"gemini-1.5-flash\")"
      ]
    },
    {
      "cell_type": "code",
      "execution_count": null,
      "metadata": {
        "id": "eE7H0p5kSABR"
      },
      "outputs": [],
      "source": [
        "def record_voice():\n",
        "    r = sr.Recognizer()\n",
        "    with sr.Microphone() as source:\n",
        "        audio = r.listen(source)\n",
        "    try:\n",
        "      return r.recognize_google(audio)\n",
        "    except sr.UnknownValueError:\n",
        "        return \"Could not understand audio.\""
      ]
    },
    {
      "cell_type": "code",
      "execution_count": null,
      "metadata": {
        "id": "wGpNOzSKT2YD"
      },
      "outputs": [],
      "source": [
        "def process_sentence(sentence, tone=\"Neutral\", word_count=None):\n",
        "    prompt = f\"\"\"Improve this text with:\n",
        "1. Grammar/punctuation corrections\n",
        "2. Rephrase in a {tone} tone\n",
        "3. Suggest synonyms for weak words\n",
        "{f\"4. Adjust to {word_count} words\" if word_count else \"\"}\n",
        "Text: \\\"{sentence}\\\"\"\"\"\n",
        "    try:\n",
        "        response = model.generate_content(prompt)\n",
        "        return response.text\n",
        "    except Exception as e:\n",
        "        return f\"Error: {str(e)}\""
      ]
    },
    {
      "cell_type": "code",
      "execution_count": null,
      "metadata": {
        "id": "ioHCI7SiVseo"
      },
      "outputs": [],
      "source": [
        "def process_text(text):\n",
        "    prompt = f\"\"\"Improve this text with:\n",
        "1. Grammar and punctuation corrections\n",
        "2. Rephrase for clarity and fluency\n",
        "3. Suggest vocabulary improvements\n",
        "Text: \"{text}\"\n",
        "\"\"\"\n",
        "    try:\n",
        "        response = model.generate_content(prompt)\n",
        "        return response.text\n",
        "    except Exception as e:\n",
        "        return f\"Error: {str(e)}\"\n"
      ]
    },
    {
      "cell_type": "code",
      "execution_count": null,
      "metadata": {
        "id": "_wUd-aAyYKZo"
      },
      "outputs": [],
      "source": [
        "input_mode = widgets.ToggleButtons(\n",
        "    options=['Text Input', 'File Upload', 'Voice Input'],\n",
        "    description='Input Mode:',\n",
        "    button_style='info'  # 'success', 'info', 'warning', 'danger' or ''\n",
        ")"
      ]
    },
    {
      "cell_type": "code",
      "execution_count": null,
      "metadata": {
        "id": "pT9yjWZcYp2g"
      },
      "outputs": [],
      "source": [
        "text_input = widgets.Textarea(\n",
        "    placeholder='Enter text or click 🎤 to speak...',\n",
        "    layout=widgets.Layout(width='100%', height='100px')\n",
        ")"
      ]
    },
    {
      "cell_type": "code",
      "execution_count": null,
      "metadata": {
        "id": "a9rH43zyZy8a"
      },
      "outputs": [],
      "source": [
        "voice_button = widgets.Button(\n",
        "    description=\"Record Voice\",\n",
        "    button_style=\"warning\",\n",
        "    tooltip=\"Click to record your voice\"\n",
        ")"
      ]
    },
    {
      "cell_type": "code",
      "execution_count": null,
      "metadata": {
        "id": "vPo01rSJaBhg"
      },
      "outputs": [],
      "source": [
        "file_upload = widgets.FileUpload(\n",
        "    accept='.txt',\n",
        "    multiple=False,\n",
        "    description='📁 Upload .txt File'\n",
        ")"
      ]
    },
    {
      "cell_type": "code",
      "execution_count": null,
      "metadata": {
        "id": "ZdaEyquqapO_"
      },
      "outputs": [],
      "source": [
        "process_button = widgets.Button(\n",
        "    description=\"Enhance Text\",\n",
        "    button_style=\"success\"\n",
        ")\n",
        "export_txt = widgets.Button(description=\"Export TXT\")\n",
        "export_pdf = widgets.Button(description=\"Export PDF\")\n",
        "export_docx = widgets.Button(description=\"Export DOCX\")"
      ]
    },
    {
      "cell_type": "code",
      "execution_count": null,
      "metadata": {
        "id": "zlrqO_Ivbm0j"
      },
      "outputs": [],
      "source": [
        "input_container = widgets.VBox()\n",
        "def update_input_mode(change):\n",
        "    if change['new'] == 'Text Input':\n",
        "        input_container.children = [text_input]\n",
        "    elif change['new'] == 'Voice Input':\n",
        "        input_container.children = [voice_button]\n",
        "    else:\n",
        "        input_container.children = [file_upload]\n",
        "input_mode.observe(update_input_mode, names='value')\n",
        "update_input_mode({'new': input_mode.value})\n",
        "export_panel = widgets.HBox([\n",
        "    export_txt,\n",
        "    export_pdf,\n",
        "    export_docx\n",
        "])\n",
        "output_display = widgets.Output(\n",
        "    layout=widgets.Layout(\n",
        "        border='2px solid #2ecc71',\n",
        "        padding='10px'\n",
        "    )\n",
        ")"
      ]
    },
    {
      "cell_type": "code",
      "execution_count": null,
      "metadata": {
        "colab": {
          "base_uri": "https://localhost:8080/",
          "height": 278,
          "referenced_widgets": [
            "b601e05afb3b4d6b8a53b9af63f1352a",
            "2bf924598e114ff7a6c53fc4e0ebc6ca",
            "7b4c6dc6e5384484a86072f66371bff2",
            "2251f6c95a574c9795f3272ae652652e",
            "e97024f29a8642ceae07bcf01beed55f",
            "88f128ba899c44499125e16cbc6c28d3",
            "c386007c1f76441b87e37b4984b087bf",
            "aaf549ca16ab4b73ab496d31190f0353",
            "eed21bc4c8f642f39725db5a1f812ab5",
            "cf73858088e049f786e44bb7428e6bde",
            "a5b00dad3429415597a831e192bcdc67",
            "e4bf11424263455280fa720f6960c075",
            "43a9ccbeb72d4bb5bb0a6562eff6e501",
            "8ec79a20ba6a4a73825e7f98ee815bcd",
            "9c96eadbba7f4005be6c580d95b5b5d6"
          ]
        },
        "id": "ONHI80rqcSch",
        "outputId": "06dd9f4b-6426-4c17-9731-890689feb8c8"
      },
      "outputs": [],
      "source": [
        "def on_process_click(b):\n",
        "    output_display.clear_output()\n",
        "\n",
        "    with output_display:\n",
        "        text = \"\"\n",
        "\n",
        "        if input_mode.value == 'Text Input':\n",
        "            text = text_input.value\n",
        "\n",
        "        elif input_mode.value == 'Voice Input':\n",
        "            text = record_voice()\n",
        "\n",
        "        else:  # File Upload\n",
        "            if file_upload.value:\n",
        "                uploaded = list(file_upload.value.values())[0]\n",
        "                text = uploaded['content'].decode('utf-8')\n",
        "\n",
        "        if not text.strip():\n",
        "            display(HTML(\"<b style='color:red'>▲ Please provide input</b>\"))\n",
        "            return\n",
        "\n",
        "        enhanced = process_text(text)\n",
        "        display(Markdown(f\"*Enhanced Text:*\\n\\n{enhanced}\"))\n",
        "process_button.on_click(on_process_click)\n",
        "display(HTML(\"<h1 style='color: #2c3e50'>AI Writing Assistant</h1>\"))\n",
        "\n",
        "display(widgets.VBox([\n",
        "    input_mode,\n",
        "    input_container,\n",
        "    process_button,\n",
        "    output_display\n",
        "]))"
      ]
    }
  ],
  "metadata": {
    "colab": {
      "provenance": []
    },
    "kernelspec": {
      "display_name": "Python 3",
      "name": "python3"
    },
    "language_info": {
      "name": "python"
    },
    "widgets": {
      "application/vnd.jupyter.widget-state+json": {
        "2251f6c95a574c9795f3272ae652652e": {
          "model_module": "@jupyter-widgets/controls",
          "model_module_version": "1.5.0",
          "model_name": "ButtonModel",
          "state": {
            "_dom_classes": [],
            "_model_module": "@jupyter-widgets/controls",
            "_model_module_version": "1.5.0",
            "_model_name": "ButtonModel",
            "_view_count": null,
            "_view_module": "@jupyter-widgets/controls",
            "_view_module_version": "1.5.0",
            "_view_name": "ButtonView",
            "button_style": "success",
            "description": "Enhance Text",
            "disabled": false,
            "icon": "",
            "layout": "IPY_MODEL_a5b00dad3429415597a831e192bcdc67",
            "style": "IPY_MODEL_e4bf11424263455280fa720f6960c075",
            "tooltip": ""
          }
        },
        "2bf924598e114ff7a6c53fc4e0ebc6ca": {
          "model_module": "@jupyter-widgets/controls",
          "model_module_version": "1.5.0",
          "model_name": "ToggleButtonsModel",
          "state": {
            "_dom_classes": [],
            "_model_module": "@jupyter-widgets/controls",
            "_model_module_version": "1.5.0",
            "_model_name": "ToggleButtonsModel",
            "_options_labels": [
              "Text Input",
              "File Upload",
              "Voice Input"
            ],
            "_view_count": null,
            "_view_module": "@jupyter-widgets/controls",
            "_view_module_version": "1.5.0",
            "_view_name": "ToggleButtonsView",
            "button_style": "info",
            "description": "Input Mode:",
            "description_tooltip": null,
            "disabled": false,
            "icons": [],
            "index": 0,
            "layout": "IPY_MODEL_c386007c1f76441b87e37b4984b087bf",
            "style": "IPY_MODEL_aaf549ca16ab4b73ab496d31190f0353",
            "tooltips": []
          }
        },
        "43a9ccbeb72d4bb5bb0a6562eff6e501": {
          "model_module": "@jupyter-widgets/base",
          "model_module_version": "1.2.0",
          "model_name": "LayoutModel",
          "state": {
            "_model_module": "@jupyter-widgets/base",
            "_model_module_version": "1.2.0",
            "_model_name": "LayoutModel",
            "_view_count": null,
            "_view_module": "@jupyter-widgets/base",
            "_view_module_version": "1.2.0",
            "_view_name": "LayoutView",
            "align_content": null,
            "align_items": null,
            "align_self": null,
            "border": null,
            "bottom": null,
            "display": null,
            "flex": null,
            "flex_flow": null,
            "grid_area": null,
            "grid_auto_columns": null,
            "grid_auto_flow": null,
            "grid_auto_rows": null,
            "grid_column": null,
            "grid_gap": null,
            "grid_row": null,
            "grid_template_areas": null,
            "grid_template_columns": null,
            "grid_template_rows": null,
            "height": "100px",
            "justify_content": null,
            "justify_items": null,
            "left": null,
            "margin": null,
            "max_height": null,
            "max_width": null,
            "min_height": null,
            "min_width": null,
            "object_fit": null,
            "object_position": null,
            "order": null,
            "overflow": null,
            "overflow_x": null,
            "overflow_y": null,
            "padding": null,
            "right": null,
            "top": null,
            "visibility": null,
            "width": "100%"
          }
        },
        "7b4c6dc6e5384484a86072f66371bff2": {
          "model_module": "@jupyter-widgets/controls",
          "model_module_version": "1.5.0",
          "model_name": "VBoxModel",
          "state": {
            "_dom_classes": [],
            "_model_module": "@jupyter-widgets/controls",
            "_model_module_version": "1.5.0",
            "_model_name": "VBoxModel",
            "_view_count": null,
            "_view_module": "@jupyter-widgets/controls",
            "_view_module_version": "1.5.0",
            "_view_name": "VBoxView",
            "box_style": "",
            "children": [
              "IPY_MODEL_eed21bc4c8f642f39725db5a1f812ab5"
            ],
            "layout": "IPY_MODEL_cf73858088e049f786e44bb7428e6bde"
          }
        },
        "88f128ba899c44499125e16cbc6c28d3": {
          "model_module": "@jupyter-widgets/base",
          "model_module_version": "1.2.0",
          "model_name": "LayoutModel",
          "state": {
            "_model_module": "@jupyter-widgets/base",
            "_model_module_version": "1.2.0",
            "_model_name": "LayoutModel",
            "_view_count": null,
            "_view_module": "@jupyter-widgets/base",
            "_view_module_version": "1.2.0",
            "_view_name": "LayoutView",
            "align_content": null,
            "align_items": null,
            "align_self": null,
            "border": null,
            "bottom": null,
            "display": null,
            "flex": null,
            "flex_flow": null,
            "grid_area": null,
            "grid_auto_columns": null,
            "grid_auto_flow": null,
            "grid_auto_rows": null,
            "grid_column": null,
            "grid_gap": null,
            "grid_row": null,
            "grid_template_areas": null,
            "grid_template_columns": null,
            "grid_template_rows": null,
            "height": null,
            "justify_content": null,
            "justify_items": null,
            "left": null,
            "margin": null,
            "max_height": null,
            "max_width": null,
            "min_height": null,
            "min_width": null,
            "object_fit": null,
            "object_position": null,
            "order": null,
            "overflow": null,
            "overflow_x": null,
            "overflow_y": null,
            "padding": null,
            "right": null,
            "top": null,
            "visibility": null,
            "width": null
          }
        },
        "8ec79a20ba6a4a73825e7f98ee815bcd": {
          "model_module": "@jupyter-widgets/controls",
          "model_module_version": "1.5.0",
          "model_name": "DescriptionStyleModel",
          "state": {
            "_model_module": "@jupyter-widgets/controls",
            "_model_module_version": "1.5.0",
            "_model_name": "DescriptionStyleModel",
            "_view_count": null,
            "_view_module": "@jupyter-widgets/base",
            "_view_module_version": "1.2.0",
            "_view_name": "StyleView",
            "description_width": ""
          }
        },
        "9c96eadbba7f4005be6c580d95b5b5d6": {
          "model_module": "@jupyter-widgets/base",
          "model_module_version": "1.2.0",
          "model_name": "LayoutModel",
          "state": {
            "_model_module": "@jupyter-widgets/base",
            "_model_module_version": "1.2.0",
            "_model_name": "LayoutModel",
            "_view_count": null,
            "_view_module": "@jupyter-widgets/base",
            "_view_module_version": "1.2.0",
            "_view_name": "LayoutView",
            "align_content": null,
            "align_items": null,
            "align_self": null,
            "border": "2px solid #2ecc71",
            "bottom": null,
            "display": null,
            "flex": null,
            "flex_flow": null,
            "grid_area": null,
            "grid_auto_columns": null,
            "grid_auto_flow": null,
            "grid_auto_rows": null,
            "grid_column": null,
            "grid_gap": null,
            "grid_row": null,
            "grid_template_areas": null,
            "grid_template_columns": null,
            "grid_template_rows": null,
            "height": null,
            "justify_content": null,
            "justify_items": null,
            "left": null,
            "margin": null,
            "max_height": null,
            "max_width": null,
            "min_height": null,
            "min_width": null,
            "object_fit": null,
            "object_position": null,
            "order": null,
            "overflow": null,
            "overflow_x": null,
            "overflow_y": null,
            "padding": "10px",
            "right": null,
            "top": null,
            "visibility": null,
            "width": null
          }
        },
        "a5b00dad3429415597a831e192bcdc67": {
          "model_module": "@jupyter-widgets/base",
          "model_module_version": "1.2.0",
          "model_name": "LayoutModel",
          "state": {
            "_model_module": "@jupyter-widgets/base",
            "_model_module_version": "1.2.0",
            "_model_name": "LayoutModel",
            "_view_count": null,
            "_view_module": "@jupyter-widgets/base",
            "_view_module_version": "1.2.0",
            "_view_name": "LayoutView",
            "align_content": null,
            "align_items": null,
            "align_self": null,
            "border": null,
            "bottom": null,
            "display": null,
            "flex": null,
            "flex_flow": null,
            "grid_area": null,
            "grid_auto_columns": null,
            "grid_auto_flow": null,
            "grid_auto_rows": null,
            "grid_column": null,
            "grid_gap": null,
            "grid_row": null,
            "grid_template_areas": null,
            "grid_template_columns": null,
            "grid_template_rows": null,
            "height": null,
            "justify_content": null,
            "justify_items": null,
            "left": null,
            "margin": null,
            "max_height": null,
            "max_width": null,
            "min_height": null,
            "min_width": null,
            "object_fit": null,
            "object_position": null,
            "order": null,
            "overflow": null,
            "overflow_x": null,
            "overflow_y": null,
            "padding": null,
            "right": null,
            "top": null,
            "visibility": null,
            "width": null
          }
        },
        "aaf549ca16ab4b73ab496d31190f0353": {
          "model_module": "@jupyter-widgets/controls",
          "model_module_version": "1.5.0",
          "model_name": "ToggleButtonsStyleModel",
          "state": {
            "_model_module": "@jupyter-widgets/controls",
            "_model_module_version": "1.5.0",
            "_model_name": "ToggleButtonsStyleModel",
            "_view_count": null,
            "_view_module": "@jupyter-widgets/base",
            "_view_module_version": "1.2.0",
            "_view_name": "StyleView",
            "button_width": "",
            "description_width": "",
            "font_weight": ""
          }
        },
        "b601e05afb3b4d6b8a53b9af63f1352a": {
          "model_module": "@jupyter-widgets/controls",
          "model_module_version": "1.5.0",
          "model_name": "VBoxModel",
          "state": {
            "_dom_classes": [],
            "_model_module": "@jupyter-widgets/controls",
            "_model_module_version": "1.5.0",
            "_model_name": "VBoxModel",
            "_view_count": null,
            "_view_module": "@jupyter-widgets/controls",
            "_view_module_version": "1.5.0",
            "_view_name": "VBoxView",
            "box_style": "",
            "children": [
              "IPY_MODEL_2bf924598e114ff7a6c53fc4e0ebc6ca",
              "IPY_MODEL_7b4c6dc6e5384484a86072f66371bff2",
              "IPY_MODEL_2251f6c95a574c9795f3272ae652652e",
              "IPY_MODEL_e97024f29a8642ceae07bcf01beed55f"
            ],
            "layout": "IPY_MODEL_88f128ba899c44499125e16cbc6c28d3"
          }
        },
        "c386007c1f76441b87e37b4984b087bf": {
          "model_module": "@jupyter-widgets/base",
          "model_module_version": "1.2.0",
          "model_name": "LayoutModel",
          "state": {
            "_model_module": "@jupyter-widgets/base",
            "_model_module_version": "1.2.0",
            "_model_name": "LayoutModel",
            "_view_count": null,
            "_view_module": "@jupyter-widgets/base",
            "_view_module_version": "1.2.0",
            "_view_name": "LayoutView",
            "align_content": null,
            "align_items": null,
            "align_self": null,
            "border": null,
            "bottom": null,
            "display": null,
            "flex": null,
            "flex_flow": null,
            "grid_area": null,
            "grid_auto_columns": null,
            "grid_auto_flow": null,
            "grid_auto_rows": null,
            "grid_column": null,
            "grid_gap": null,
            "grid_row": null,
            "grid_template_areas": null,
            "grid_template_columns": null,
            "grid_template_rows": null,
            "height": null,
            "justify_content": null,
            "justify_items": null,
            "left": null,
            "margin": null,
            "max_height": null,
            "max_width": null,
            "min_height": null,
            "min_width": null,
            "object_fit": null,
            "object_position": null,
            "order": null,
            "overflow": null,
            "overflow_x": null,
            "overflow_y": null,
            "padding": null,
            "right": null,
            "top": null,
            "visibility": null,
            "width": null
          }
        },
        "cf73858088e049f786e44bb7428e6bde": {
          "model_module": "@jupyter-widgets/base",
          "model_module_version": "1.2.0",
          "model_name": "LayoutModel",
          "state": {
            "_model_module": "@jupyter-widgets/base",
            "_model_module_version": "1.2.0",
            "_model_name": "LayoutModel",
            "_view_count": null,
            "_view_module": "@jupyter-widgets/base",
            "_view_module_version": "1.2.0",
            "_view_name": "LayoutView",
            "align_content": null,
            "align_items": null,
            "align_self": null,
            "border": null,
            "bottom": null,
            "display": null,
            "flex": null,
            "flex_flow": null,
            "grid_area": null,
            "grid_auto_columns": null,
            "grid_auto_flow": null,
            "grid_auto_rows": null,
            "grid_column": null,
            "grid_gap": null,
            "grid_row": null,
            "grid_template_areas": null,
            "grid_template_columns": null,
            "grid_template_rows": null,
            "height": null,
            "justify_content": null,
            "justify_items": null,
            "left": null,
            "margin": null,
            "max_height": null,
            "max_width": null,
            "min_height": null,
            "min_width": null,
            "object_fit": null,
            "object_position": null,
            "order": null,
            "overflow": null,
            "overflow_x": null,
            "overflow_y": null,
            "padding": null,
            "right": null,
            "top": null,
            "visibility": null,
            "width": null
          }
        },
        "e4bf11424263455280fa720f6960c075": {
          "model_module": "@jupyter-widgets/controls",
          "model_module_version": "1.5.0",
          "model_name": "ButtonStyleModel",
          "state": {
            "_model_module": "@jupyter-widgets/controls",
            "_model_module_version": "1.5.0",
            "_model_name": "ButtonStyleModel",
            "_view_count": null,
            "_view_module": "@jupyter-widgets/base",
            "_view_module_version": "1.2.0",
            "_view_name": "StyleView",
            "button_color": null,
            "font_weight": ""
          }
        },
        "e97024f29a8642ceae07bcf01beed55f": {
          "model_module": "@jupyter-widgets/output",
          "model_module_version": "1.0.0",
          "model_name": "OutputModel",
          "state": {
            "_dom_classes": [],
            "_model_module": "@jupyter-widgets/output",
            "_model_module_version": "1.0.0",
            "_model_name": "OutputModel",
            "_view_count": null,
            "_view_module": "@jupyter-widgets/output",
            "_view_module_version": "1.0.0",
            "_view_name": "OutputView",
            "layout": "IPY_MODEL_9c96eadbba7f4005be6c580d95b5b5d6",
            "msg_id": "",
            "outputs": []
          }
        },
        "eed21bc4c8f642f39725db5a1f812ab5": {
          "model_module": "@jupyter-widgets/controls",
          "model_module_version": "1.5.0",
          "model_name": "TextareaModel",
          "state": {
            "_dom_classes": [],
            "_model_module": "@jupyter-widgets/controls",
            "_model_module_version": "1.5.0",
            "_model_name": "TextareaModel",
            "_view_count": null,
            "_view_module": "@jupyter-widgets/controls",
            "_view_module_version": "1.5.0",
            "_view_name": "TextareaView",
            "continuous_update": true,
            "description": "",
            "description_tooltip": null,
            "disabled": false,
            "layout": "IPY_MODEL_43a9ccbeb72d4bb5bb0a6562eff6e501",
            "placeholder": "Enter text or click 🎤 to speak...",
            "rows": null,
            "style": "IPY_MODEL_8ec79a20ba6a4a73825e7f98ee815bcd",
            "value": ""
          }
        }
      }
    }
  },
  "nbformat": 4,
  "nbformat_minor": 0
}
